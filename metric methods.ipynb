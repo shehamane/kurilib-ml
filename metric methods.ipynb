{
 "cells": [
  {
   "cell_type": "code",
   "execution_count": 2,
   "id": "252ea88b",
   "metadata": {
    "pycharm": {
     "name": "#%%\n"
    }
   },
   "outputs": [],
   "source": [
    "import pandas as pd\n",
    "import numpy as np\n",
    "import seaborn as sns"
   ]
  },
  {
   "cell_type": "code",
   "execution_count": 2,
   "id": "fb57a321",
   "metadata": {
    "pycharm": {
     "is_executing": true,
     "name": "#%%\n"
    }
   },
   "outputs": [
    {
     "data": {
      "text/html": [
       "<div>\n",
       "<style scoped>\n",
       "    .dataframe tbody tr th:only-of-type {\n",
       "        vertical-align: middle;\n",
       "    }\n",
       "\n",
       "    .dataframe tbody tr th {\n",
       "        vertical-align: top;\n",
       "    }\n",
       "\n",
       "    .dataframe thead th {\n",
       "        text-align: right;\n",
       "    }\n",
       "</style>\n",
       "<table border=\"1\" class=\"dataframe\">\n",
       "  <thead>\n",
       "    <tr style=\"text-align: right;\">\n",
       "      <th></th>\n",
       "      <th>PassengerId</th>\n",
       "      <th>Survived</th>\n",
       "      <th>Pclass</th>\n",
       "      <th>Name</th>\n",
       "      <th>Sex</th>\n",
       "      <th>Age</th>\n",
       "      <th>SibSp</th>\n",
       "      <th>Parch</th>\n",
       "      <th>Ticket</th>\n",
       "      <th>Fare</th>\n",
       "      <th>Cabin</th>\n",
       "      <th>Embarked</th>\n",
       "    </tr>\n",
       "  </thead>\n",
       "  <tbody>\n",
       "    <tr>\n",
       "      <th>0</th>\n",
       "      <td>1</td>\n",
       "      <td>0</td>\n",
       "      <td>3</td>\n",
       "      <td>Braund, Mr. Owen Harris</td>\n",
       "      <td>male</td>\n",
       "      <td>22.0</td>\n",
       "      <td>1</td>\n",
       "      <td>0</td>\n",
       "      <td>A/5 21171</td>\n",
       "      <td>7.2500</td>\n",
       "      <td>NaN</td>\n",
       "      <td>S</td>\n",
       "    </tr>\n",
       "    <tr>\n",
       "      <th>1</th>\n",
       "      <td>2</td>\n",
       "      <td>1</td>\n",
       "      <td>1</td>\n",
       "      <td>Cumings, Mrs. John Bradley (Florence Briggs Th...</td>\n",
       "      <td>female</td>\n",
       "      <td>38.0</td>\n",
       "      <td>1</td>\n",
       "      <td>0</td>\n",
       "      <td>PC 17599</td>\n",
       "      <td>71.2833</td>\n",
       "      <td>C85</td>\n",
       "      <td>C</td>\n",
       "    </tr>\n",
       "    <tr>\n",
       "      <th>2</th>\n",
       "      <td>3</td>\n",
       "      <td>1</td>\n",
       "      <td>3</td>\n",
       "      <td>Heikkinen, Miss. Laina</td>\n",
       "      <td>female</td>\n",
       "      <td>26.0</td>\n",
       "      <td>0</td>\n",
       "      <td>0</td>\n",
       "      <td>STON/O2. 3101282</td>\n",
       "      <td>7.9250</td>\n",
       "      <td>NaN</td>\n",
       "      <td>S</td>\n",
       "    </tr>\n",
       "    <tr>\n",
       "      <th>3</th>\n",
       "      <td>4</td>\n",
       "      <td>1</td>\n",
       "      <td>1</td>\n",
       "      <td>Futrelle, Mrs. Jacques Heath (Lily May Peel)</td>\n",
       "      <td>female</td>\n",
       "      <td>35.0</td>\n",
       "      <td>1</td>\n",
       "      <td>0</td>\n",
       "      <td>113803</td>\n",
       "      <td>53.1000</td>\n",
       "      <td>C123</td>\n",
       "      <td>S</td>\n",
       "    </tr>\n",
       "    <tr>\n",
       "      <th>4</th>\n",
       "      <td>5</td>\n",
       "      <td>0</td>\n",
       "      <td>3</td>\n",
       "      <td>Allen, Mr. William Henry</td>\n",
       "      <td>male</td>\n",
       "      <td>35.0</td>\n",
       "      <td>0</td>\n",
       "      <td>0</td>\n",
       "      <td>373450</td>\n",
       "      <td>8.0500</td>\n",
       "      <td>NaN</td>\n",
       "      <td>S</td>\n",
       "    </tr>\n",
       "  </tbody>\n",
       "</table>\n",
       "</div>"
      ],
      "text/plain": [
       "   PassengerId  Survived  Pclass  \\\n",
       "0            1         0       3   \n",
       "1            2         1       1   \n",
       "2            3         1       3   \n",
       "3            4         1       1   \n",
       "4            5         0       3   \n",
       "\n",
       "                                                Name     Sex   Age  SibSp  \\\n",
       "0                            Braund, Mr. Owen Harris    male  22.0      1   \n",
       "1  Cumings, Mrs. John Bradley (Florence Briggs Th...  female  38.0      1   \n",
       "2                             Heikkinen, Miss. Laina  female  26.0      0   \n",
       "3       Futrelle, Mrs. Jacques Heath (Lily May Peel)  female  35.0      1   \n",
       "4                           Allen, Mr. William Henry    male  35.0      0   \n",
       "\n",
       "   Parch            Ticket     Fare Cabin Embarked  \n",
       "0      0         A/5 21171   7.2500   NaN        S  \n",
       "1      0          PC 17599  71.2833   C85        C  \n",
       "2      0  STON/O2. 3101282   7.9250   NaN        S  \n",
       "3      0            113803  53.1000  C123        S  \n",
       "4      0            373450   8.0500   NaN        S  "
      ]
     },
     "execution_count": 2,
     "metadata": {},
     "output_type": "execute_result"
    }
   ],
   "source": [
    "titanic_df = pd.read_csv('datasets/titanic/train.csv')\n",
    "titanic_df.head()"
   ]
  },
  {
   "cell_type": "code",
   "execution_count": 3,
   "id": "964d6277",
   "metadata": {
    "pycharm": {
     "name": "#%%\n"
    }
   },
   "outputs": [
    {
     "data": {
      "text/html": [
       "<div>\n",
       "<style scoped>\n",
       "    .dataframe tbody tr th:only-of-type {\n",
       "        vertical-align: middle;\n",
       "    }\n",
       "\n",
       "    .dataframe tbody tr th {\n",
       "        vertical-align: top;\n",
       "    }\n",
       "\n",
       "    .dataframe thead th {\n",
       "        text-align: right;\n",
       "    }\n",
       "</style>\n",
       "<table border=\"1\" class=\"dataframe\">\n",
       "  <thead>\n",
       "    <tr style=\"text-align: right;\">\n",
       "      <th></th>\n",
       "      <th>Survived</th>\n",
       "      <th>Pclass</th>\n",
       "      <th>Age</th>\n",
       "      <th>Fare</th>\n",
       "      <th>Sex_male</th>\n",
       "    </tr>\n",
       "  </thead>\n",
       "  <tbody>\n",
       "    <tr>\n",
       "      <th>0</th>\n",
       "      <td>0</td>\n",
       "      <td>3</td>\n",
       "      <td>22.0</td>\n",
       "      <td>7.2500</td>\n",
       "      <td>1</td>\n",
       "    </tr>\n",
       "    <tr>\n",
       "      <th>1</th>\n",
       "      <td>1</td>\n",
       "      <td>1</td>\n",
       "      <td>38.0</td>\n",
       "      <td>71.2833</td>\n",
       "      <td>0</td>\n",
       "    </tr>\n",
       "    <tr>\n",
       "      <th>2</th>\n",
       "      <td>1</td>\n",
       "      <td>3</td>\n",
       "      <td>26.0</td>\n",
       "      <td>7.9250</td>\n",
       "      <td>0</td>\n",
       "    </tr>\n",
       "    <tr>\n",
       "      <th>3</th>\n",
       "      <td>1</td>\n",
       "      <td>1</td>\n",
       "      <td>35.0</td>\n",
       "      <td>53.1000</td>\n",
       "      <td>0</td>\n",
       "    </tr>\n",
       "    <tr>\n",
       "      <th>4</th>\n",
       "      <td>0</td>\n",
       "      <td>3</td>\n",
       "      <td>35.0</td>\n",
       "      <td>8.0500</td>\n",
       "      <td>1</td>\n",
       "    </tr>\n",
       "  </tbody>\n",
       "</table>\n",
       "</div>"
      ],
      "text/plain": [
       "   Survived  Pclass   Age     Fare  Sex_male\n",
       "0         0       3  22.0   7.2500         1\n",
       "1         1       1  38.0  71.2833         0\n",
       "2         1       3  26.0   7.9250         0\n",
       "3         1       1  35.0  53.1000         0\n",
       "4         0       3  35.0   8.0500         1"
      ]
     },
     "execution_count": 3,
     "metadata": {},
     "output_type": "execute_result"
    }
   ],
   "source": [
    "titanic_df = titanic_df.drop(columns={'PassengerId', 'Name', 'SibSp', 'Parch', 'Ticket', 'Cabin', 'Embarked'})\n",
    "titanic_df = pd.get_dummies(titanic_df, columns=['Sex']).drop(columns='Sex_female')\n",
    "titanic_df.head()"
   ]
  },
  {
   "cell_type": "code",
   "execution_count": 4,
   "id": "d027a0c6",
   "metadata": {
    "pycharm": {
     "name": "#%%\n"
    }
   },
   "outputs": [
    {
     "data": {
      "text/plain": [
       "Survived    False\n",
       "Pclass      False\n",
       "Age          True\n",
       "Fare        False\n",
       "Sex_male    False\n",
       "dtype: bool"
      ]
     },
     "execution_count": 4,
     "metadata": {},
     "output_type": "execute_result"
    }
   ],
   "source": [
    "titanic_df.isna().any()"
   ]
  },
  {
   "cell_type": "code",
   "execution_count": 5,
   "id": "211f8e7d",
   "metadata": {
    "pycharm": {
     "name": "#%%\n"
    }
   },
   "outputs": [
    {
     "data": {
      "text/plain": [
       "Survived    False\n",
       "Pclass      False\n",
       "Age         False\n",
       "Fare        False\n",
       "Sex_male    False\n",
       "dtype: bool"
      ]
     },
     "execution_count": 5,
     "metadata": {},
     "output_type": "execute_result"
    }
   ],
   "source": [
    "titanic_df = titanic_df.fillna({'Age': titanic_df['Age'].median()})\n",
    "titanic_df.isna().any()"
   ]
  },
  {
   "cell_type": "code",
   "execution_count": 6,
   "id": "c43cf94f",
   "metadata": {
    "pycharm": {
     "name": "#%%\n"
    }
   },
   "outputs": [],
   "source": [
    "from sklearn.model_selection import train_test_split\n",
    "X = titanic_df.drop(columns='Survived')\n",
    "y = titanic_df['Survived']\n",
    "X_train, X_test, y_train, y_test = train_test_split(X, y, test_size=0.25)"
   ]
  },
  {
   "cell_type": "markdown",
   "id": "61a7adb3",
   "metadata": {
    "pycharm": {
     "name": "#%% md\n"
    }
   },
   "source": [
    "# Простой kNN"
   ]
  },
  {
   "cell_type": "markdown",
   "id": "2745ae8c",
   "metadata": {},
   "source": [
    "Простой kNN с евклидовой метрикой. Поиск соседей производится полным перебором. Выбирается наиболее частый класс."
   ]
  },
  {
   "cell_type": "code",
   "execution_count": 7,
   "id": "54996e9d",
   "metadata": {
    "pycharm": {
     "name": "#%%\n"
    }
   },
   "outputs": [
    {
     "data": {
      "text/plain": [
       "<seaborn.axisgrid.FacetGrid at 0x7f4f2f35b4c0>"
      ]
     },
     "execution_count": 7,
     "metadata": {},
     "output_type": "execute_result"
    },
    {
     "data": {
      "image/png": "[encoded data removed]",
      "text/plain": [
       "<Figure size 360x360 with 1 Axes>"
      ]
     },
     "metadata": {
      "needs_background": "light"
     },
     "output_type": "display_data"
    }
   ],
   "source": [
    "from metric_methods import kNearestNeighbors\n",
    "from quality_functional import Accuracy\n",
    "\n",
    "accuracies = []\n",
    "\n",
    "for k in range(1, 10):\n",
    "    kNN = kNearestNeighbors(k=k, X = X_train, y = y_train, metric='euclidian',\n",
    "                                choice_method='maxentry', search_method='exhaustive')\n",
    "    y_pred = kNN.predict(X_test)\n",
    "    accuracies.append(Accuracy.get_accuracy(y_pred, y_test.to_numpy()))\n",
    "sns.relplot(x=list(range(1, 10)), y=accuracies, kind='line')"
   ]
  },
  {
   "cell_type": "markdown",
   "id": "740a3bc0",
   "metadata": {
    "pycharm": {
     "name": "#%% md\n"
    }
   },
   "source": [
    "Полный перебор работает очень медленно"
   ]
  },
  {
   "cell_type": "markdown",
   "id": "cda1836e",
   "metadata": {},
   "source": [
    "Тот же kNN, но метрика манхеттоновская."
   ]
  },
  {
   "cell_type": "code",
   "execution_count": 8,
   "id": "2484b328",
   "metadata": {
    "pycharm": {
     "name": "#%%\n"
    }
   },
   "outputs": [
    {
     "data": {
      "text/plain": [
       "<seaborn.axisgrid.FacetGrid at 0x7f4f2ec38640>"
      ]
     },
     "execution_count": 8,
     "metadata": {},
     "output_type": "execute_result"
    },
    {
     "data": {
      "image/png": "[encoded data removed]",
      "text/plain": [
       "<Figure size 360x360 with 1 Axes>"
      ]
     },
     "metadata": {
      "needs_background": "light"
     },
     "output_type": "display_data"
    }
   ],
   "source": [
    "accuracies = []\n",
    "\n",
    "for k in range(1, 10):\n",
    "    kNN = kNearestNeighbors(k=k, X = X_train, y = y_train, metric='manhattan',\n",
    "                                choice_method='maxentry', search_method='exhaustive')\n",
    "    y_pred = kNN.predict(X_test)\n",
    "    accuracies.append(Accuracy.get_accuracy(y_pred, y_test.to_numpy()))\n",
    "sns.relplot(x=list(range(1, 10)), y=accuracies, kind='line')"
   ]
  },
  {
   "cell_type": "markdown",
   "id": "efbc0209",
   "metadata": {},
   "source": [
    "Косинусное расстояние"
   ]
  },
  {
   "cell_type": "code",
   "execution_count": 9,
   "id": "24f4ba6a",
   "metadata": {
    "pycharm": {
     "name": "#%%\n"
    }
   },
   "outputs": [
    {
     "data": {
      "text/plain": [
       "<seaborn.axisgrid.FacetGrid at 0x7f4f2f35bfd0>"
      ]
     },
     "execution_count": 9,
     "metadata": {},
     "output_type": "execute_result"
    },
    {
     "data": {
      "image/png": "[encoded data removed]",
      "text/plain": [
       "<Figure size 360x360 with 1 Axes>"
      ]
     },
     "metadata": {
      "needs_background": "light"
     },
     "output_type": "display_data"
    }
   ],
   "source": [
    "accuracies = []\n",
    "\n",
    "for k in range(1, 10):\n",
    "    kNN = kNearestNeighbors(k=k, X = X_train, y = y_train, metric='cosine',\n",
    "                                choice_method='maxentry', search_method='exhaustive')\n",
    "    y_pred = kNN.predict(X_test)\n",
    "    accuracies.append(Accuracy.get_accuracy(y_pred, y_test.to_numpy()))\n",
    "sns.relplot(x=list(range(1, 10)), y=accuracies, kind='line')"
   ]
  },
  {
   "cell_type": "markdown",
   "id": "baee723a",
   "metadata": {},
   "source": [
    "Взвешенный kNN (гауссовское ядро)"
   ]
  },
  {
   "cell_type": "code",
   "execution_count": 12,
   "id": "752910d0",
   "metadata": {
    "pycharm": {
     "name": "#%%\n"
    }
   },
   "outputs": [
    {
     "data": {
      "text/plain": [
       "<seaborn.axisgrid.FacetGrid at 0x7f4f9877aa00>"
      ]
     },
     "execution_count": 12,
     "metadata": {},
     "output_type": "execute_result"
    },
    {
     "data": {
      "image/png": "[encoded data removed]",
      "text/plain": [
       "<Figure size 360x360 with 1 Axes>"
      ]
     },
     "metadata": {
      "needs_background": "light"
     },
     "output_type": "display_data"
    }
   ],
   "source": [
    "accuracies = []\n",
    "max_score = 0\n",
    "best_k = None\n",
    "for k in range(1, 10):\n",
    "    kNN = kNearestNeighbors(k=k, X = X_train, y = y_train, metric='euclidian',\n",
    "                                choice_method='weighted', search_method='exhaustive',\n",
    "                               window_width=1)\n",
    "    y_pred = kNN.predict(X_test)\n",
    "    acc = Accuracy.get_accuracy(y_pred, y_test.to_numpy())\n",
    "    if acc > max_score:\n",
    "        max_score = acc\n",
    "        best_k = k\n",
    "    accuracies.append(acc)\n",
    "sns.relplot(x=list(range(1, 10)), y=accuracies, kind='line')"
   ]
  },
  {
   "cell_type": "markdown",
   "id": "3d295ba9",
   "metadata": {},
   "source": [
    "Подберем ширину окна (k оставим равным best_k)"
   ]
  },
  {
   "cell_type": "code",
   "execution_count": 13,
   "id": "f89cd214",
   "metadata": {},
   "outputs": [
    {
     "data": {
      "text/plain": [
       "<seaborn.axisgrid.FacetGrid at 0x7f4f2cb0a850>"
      ]
     },
     "execution_count": 13,
     "metadata": {},
     "output_type": "execute_result"
    },
    {
     "data": {
      "image/png": "[encoded data removed]",
      "text/plain": [
       "<Figure size 360x360 with 1 Axes>"
      ]
     },
     "metadata": {
      "needs_background": "light"
     },
     "output_type": "display_data"
    }
   ],
   "source": [
    "accuracies = []\n",
    "for h in np.linspace(0.1, 5, num=20):\n",
    "    kNN = kNearestNeighbors(k=best_k, X = X_train, y=y_train, metric='euclidian',\n",
    "                               choice_method='weighted', window_width=h, search_method='exhaustive')\n",
    "    y_pred = kNN.predict(X_test)\n",
    "    accuracies.append(Accuracy.get_accuracy(y_pred, y_test.to_numpy()))\n",
    "sns.relplot(x=np.linspace(0.1, 5, num=20), y=accuracies, kind='line')"
   ]
  },
  {
   "cell_type": "markdown",
   "id": "3dfbf9bc",
   "metadata": {},
   "source": [
    "# Ядерная регрессия"
   ]
  },
  {
   "cell_type": "code",
   "execution_count": 23,
   "id": "49f16a67",
   "metadata": {},
   "outputs": [],
   "source": [
    "from data import normalize_columns\n",
    "from sklearn.model_selection import train_test_split\n",
    "\n",
    "weather_ds = pd.read_csv('datasets/weatherHistory.csv')\n",
    "weather_ds = weather_ds[['Precip Type', 'Humidity', 'Pressure (millibars)', 'Temperature (C)']]\n",
    "weather_ds = pd.get_dummies(weather_ds, prefix='precip', columns=['Precip Type'])\n",
    "weather_ds = weather_ds.rename(columns={'Pressure (millibars)': 'Pressure'})\n",
    "normalize_columns(weather_ds, columns=['Pressure'])\n",
    "X = weather_ds.drop(columns=['Temperature (C)'])\n",
    "y = weather_ds['Temperature (C)']\n",
    "X_train, X_test, y_train, y_test = train_test_split(X, y, train_size=500, test_size=200)"
   ]
  },
  {
   "cell_type": "code",
   "execution_count": 24,
   "id": "76ffcaec",
   "metadata": {
    "scrolled": true
   },
   "outputs": [
    {
     "data": {
      "text/html": [
       "<div>\n",
       "<style scoped>\n",
       "    .dataframe tbody tr th:only-of-type {\n",
       "        vertical-align: middle;\n",
       "    }\n",
       "\n",
       "    .dataframe tbody tr th {\n",
       "        vertical-align: top;\n",
       "    }\n",
       "\n",
       "    .dataframe thead th {\n",
       "        text-align: right;\n",
       "    }\n",
       "</style>\n",
       "<table border=\"1\" class=\"dataframe\">\n",
       "  <thead>\n",
       "    <tr style=\"text-align: right;\">\n",
       "      <th></th>\n",
       "      <th>Humidity</th>\n",
       "      <th>Pressure</th>\n",
       "      <th>Temperature (C)</th>\n",
       "      <th>precip_rain</th>\n",
       "      <th>precip_snow</th>\n",
       "    </tr>\n",
       "  </thead>\n",
       "  <tbody>\n",
       "    <tr>\n",
       "      <th>0</th>\n",
       "      <td>0.89</td>\n",
       "      <td>0.970135</td>\n",
       "      <td>9.472222</td>\n",
       "      <td>1</td>\n",
       "      <td>0</td>\n",
       "    </tr>\n",
       "    <tr>\n",
       "      <th>1</th>\n",
       "      <td>0.86</td>\n",
       "      <td>0.970613</td>\n",
       "      <td>9.355556</td>\n",
       "      <td>1</td>\n",
       "      <td>0</td>\n",
       "    </tr>\n",
       "    <tr>\n",
       "      <th>2</th>\n",
       "      <td>0.89</td>\n",
       "      <td>0.970909</td>\n",
       "      <td>9.377778</td>\n",
       "      <td>1</td>\n",
       "      <td>0</td>\n",
       "    </tr>\n",
       "    <tr>\n",
       "      <th>3</th>\n",
       "      <td>0.83</td>\n",
       "      <td>0.971358</td>\n",
       "      <td>8.288889</td>\n",
       "      <td>1</td>\n",
       "      <td>0</td>\n",
       "    </tr>\n",
       "    <tr>\n",
       "      <th>4</th>\n",
       "      <td>0.83</td>\n",
       "      <td>0.971454</td>\n",
       "      <td>8.755556</td>\n",
       "      <td>1</td>\n",
       "      <td>0</td>\n",
       "    </tr>\n",
       "    <tr>\n",
       "      <th>...</th>\n",
       "      <td>...</td>\n",
       "      <td>...</td>\n",
       "      <td>...</td>\n",
       "      <td>...</td>\n",
       "      <td>...</td>\n",
       "    </tr>\n",
       "    <tr>\n",
       "      <th>96448</th>\n",
       "      <td>0.43</td>\n",
       "      <td>0.969399</td>\n",
       "      <td>26.016667</td>\n",
       "      <td>1</td>\n",
       "      <td>0</td>\n",
       "    </tr>\n",
       "    <tr>\n",
       "      <th>96449</th>\n",
       "      <td>0.48</td>\n",
       "      <td>0.970164</td>\n",
       "      <td>24.583333</td>\n",
       "      <td>1</td>\n",
       "      <td>0</td>\n",
       "    </tr>\n",
       "    <tr>\n",
       "      <th>96450</th>\n",
       "      <td>0.56</td>\n",
       "      <td>0.970642</td>\n",
       "      <td>22.038889</td>\n",
       "      <td>1</td>\n",
       "      <td>0</td>\n",
       "    </tr>\n",
       "    <tr>\n",
       "      <th>96451</th>\n",
       "      <td>0.60</td>\n",
       "      <td>0.970919</td>\n",
       "      <td>21.522222</td>\n",
       "      <td>1</td>\n",
       "      <td>0</td>\n",
       "    </tr>\n",
       "    <tr>\n",
       "      <th>96452</th>\n",
       "      <td>0.61</td>\n",
       "      <td>0.971119</td>\n",
       "      <td>20.438889</td>\n",
       "      <td>1</td>\n",
       "      <td>0</td>\n",
       "    </tr>\n",
       "  </tbody>\n",
       "</table>\n",
       "<p>96453 rows × 5 columns</p>\n",
       "</div>"
      ],
      "text/plain": [
       "       Humidity  Pressure  Temperature (C)  precip_rain  precip_snow\n",
       "0          0.89  0.970135         9.472222            1            0\n",
       "1          0.86  0.970613         9.355556            1            0\n",
       "2          0.89  0.970909         9.377778            1            0\n",
       "3          0.83  0.971358         8.288889            1            0\n",
       "4          0.83  0.971454         8.755556            1            0\n",
       "...         ...       ...              ...          ...          ...\n",
       "96448      0.43  0.969399        26.016667            1            0\n",
       "96449      0.48  0.970164        24.583333            1            0\n",
       "96450      0.56  0.970642        22.038889            1            0\n",
       "96451      0.60  0.970919        21.522222            1            0\n",
       "96452      0.61  0.971119        20.438889            1            0\n",
       "\n",
       "[96453 rows x 5 columns]"
      ]
     },
     "execution_count": 24,
     "metadata": {},
     "output_type": "execute_result"
    }
   ],
   "source": [
    "weather_ds"
   ]
  },
  {
   "cell_type": "code",
   "execution_count": 29,
   "id": "ed74294b",
   "metadata": {
    "scrolled": true
   },
   "outputs": [
    {
     "data": {
      "text/plain": [
       "<seaborn.axisgrid.FacetGrid at 0x7fefce8341c0>"
      ]
     },
     "execution_count": 29,
     "metadata": {},
     "output_type": "execute_result"
    },
    {
     "data": {
      "image/png": "[encoded data removed]",
      "text/plain": [
       "<Figure size 360x360 with 1 Axes>"
      ]
     },
     "metadata": {
      "needs_background": "light"
     },
     "output_type": "display_data"
    }
   ],
   "source": [
    "from quality_functional import MSE\n",
    "from metric_methods import kNearestNeighbors\n",
    "\n",
    "MSEs = []\n",
    "\n",
    "for k in range(5, 30):\n",
    "    kernel_knn = kNearestNeighbors(k, X_train, y_train,\n",
    "                                      choice_method='kernel-regression', window_width=1)\n",
    "    y_pred = kernel_knn.predict(X_test)\n",
    "    MSEs.append(MSE.get_loss(y_test, y_pred))\n",
    "sns.relplot(x=list(range(5, 30)), y=MSEs, kind='line')"
   ]
  },
  {
   "cell_type": "markdown",
   "id": "d2d38b82",
   "metadata": {},
   "source": [
    "При достаточно хорошей обучающей выборке показывает результат лучше чем линейная регрессия"
   ]
  },
  {
   "cell_type": "code",
   "execution_count": 26,
   "id": "5c8953cf",
   "metadata": {},
   "outputs": [
    {
     "data": {
      "text/plain": [
       "<seaborn.axisgrid.FacetGrid at 0x7fefce9627f0>"
      ]
     },
     "execution_count": 26,
     "metadata": {},
     "output_type": "execute_result"
    },
    {
     "data": {
      "image/png": "[encoded data removed]",
      "text/plain": [
       "<Figure size 360x360 with 1 Axes>"
      ]
     },
     "metadata": {
      "needs_background": "light"
     },
     "output_type": "display_data"
    }
   ],
   "source": [
    "MSEs = []\n",
    "\n",
    "for h in np.linspace(0.1, 10, 20):\n",
    "    kernel_knn = kNearestNeighbors(20, X_train, y_train,\n",
    "                                      choice_method='kernel-regression', window_width=h)\n",
    "    y_pred = kernel_knn.predict(X_test)\n",
    "    MSEs.append(MSE.get_loss(y_test, y_pred))\n",
    "sns.relplot(x=np.linspace(0.1, 10, 20), y=MSEs, kind='line')"
   ]
  }
 ],
 "metadata": {
  "kernelspec": {
   "display_name": "Python 3 (ipykernel)",
   "language": "python",
   "name": "python3"
  },
  "language_info": {
   "codemirror_mode": {
    "name": "ipython",
    "version": 3
   },
   "file_extension": ".py",
   "mimetype": "text/x-python",
   "name": "python",
   "nbconvert_exporter": "python",
   "pygments_lexer": "ipython3",
   "version": "3.9.12"
  }
 },
 "nbformat": 4,
 "nbformat_minor": 5
}
